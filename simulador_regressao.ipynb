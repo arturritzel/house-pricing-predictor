{
  "nbformat": 4,
  "nbformat_minor": 0,
  "metadata": {
    "colab": {
      "provenance": []
    },
    "kernelspec": {
      "name": "python3",
      "display_name": "Python 3"
    },
    "language_info": {
      "name": "python"
    }
  },
  "cells": [
    {
      "cell_type": "markdown",
      "source": [
        "# Previsor\n",
        "Este algoritmo realiza a previsão aproximada dos valores das casas em Boston com base em alguns fatores estruturais e sociais"
      ],
      "metadata": {
        "id": "wI7reNRSIhlX"
      }
    },
    {
      "cell_type": "markdown",
      "source": [
        "## Imports"
      ],
      "metadata": {
        "id": "qIZGkFb0Ifuc"
      }
    },
    {
      "cell_type": "code",
      "source": [
        "import pandas as pd"
      ],
      "metadata": {
        "id": "l7gbd_FLIXHf"
      },
      "execution_count": 2,
      "outputs": []
    },
    {
      "cell_type": "code",
      "execution_count": 21,
      "metadata": {
        "colab": {
          "base_uri": "https://localhost:8080/"
        },
        "id": "itP-bcqsIFp0",
        "outputId": "50de315e-dc97-4aea-81bf-a4deadea7ac1"
      },
      "outputs": [
        {
          "output_type": "execute_result",
          "data": {
            "text/plain": [
              "array([[ 6.575,  4.98 , 15.3  ],\n",
              "       [ 6.421,  9.14 , 17.8  ],\n",
              "       [ 7.185,  4.03 , 17.8  ],\n",
              "       ...,\n",
              "       [ 6.976,  5.64 , 21.   ],\n",
              "       [ 6.794,  6.48 , 21.   ],\n",
              "       [ 6.03 ,  7.88 , 21.   ]])"
            ]
          },
          "metadata": {},
          "execution_count": 21
        }
      ],
      "source": [
        "independente = pd.read_csv('/content/independente.csv',header=None)\n",
        "independente = independente.values\n",
        "independente"
      ]
    },
    {
      "cell_type": "code",
      "source": [
        "dependente = pd.read_csv('/content/dependente.csv',header=None)\n",
        "dependente = dependente.iloc[:, 0].values\n",
        "dependente"
      ],
      "metadata": {
        "colab": {
          "base_uri": "https://localhost:8080/"
        },
        "id": "zhyCWmEvIVgm",
        "outputId": "c86b4963-1f69-4ae8-da72-ff405b61e1f0"
      },
      "execution_count": 23,
      "outputs": [
        {
          "output_type": "execute_result",
          "data": {
            "text/plain": [
              "array([ 504000.,  453600.,  728700.,  701400.,  760200.,  602700.,\n",
              "        480900.,  569100.,  346500.,  396900.,  315000.,  396900.,\n",
              "        455700.,  428400.,  382200.,  417900.,  485100.,  367500.,\n",
              "        424200.,  382200.,  285600.,  411600.,  319200.,  304500.,\n",
              "        327600.,  291900.,  348600.,  310800.,  386400.,  441000.,\n",
              "        266700.,  304500.,  277200.,  275100.,  283500.,  396900.,\n",
              "        420000.,  441000.,  518700.,  646800.,  732900.,  558600.,\n",
              "        531300.,  518700.,  445200.,  405300.,  420000.,  348600.,\n",
              "        302400.,  407400.,  413700.,  430500.,  525000.,  491400.,\n",
              "        396900.,  743400.,  518700.,  663600.,  489300.,  411600.,\n",
              "        392700.,  336000.,  466200.,  525000.,  693000.,  493500.,\n",
              "        407400.,  462000.,  365400.,  438900.,  508200.,  455700.,\n",
              "        478800.,  491400.,  506100.,  449400.,  420000.,  436800.,\n",
              "        445200.,  426300.,  588000.,  501900.,  520800.,  480900.,\n",
              "        501900.,  558600.,  472500.,  466200.,  495600.,  602700.,\n",
              "        474600.,  462000.,  480900.,  525000.,  432600.,  596400.,\n",
              "        449400.,  812700.,  919800.,  697200.,  577500.,  556500.,\n",
              "        390600.,  405300.,  422100.,  409500.,  409500.,  428400.,\n",
              "        415800.,  407400.,  455700.,  478800.,  394800.,  392700.,\n",
              "        388500.,  384300.,  445200.,  403200.,  428400.,  405300.,\n",
              "        462000.,  426300.,  430500.,  363300.,  394800.,  449400.,\n",
              "        329700.,  340200.,  378000.,  300300.,  403200.,  411600.,\n",
              "        483000.,  386400.,  327600.,  380100.,  365400.,  359100.,\n",
              "        279300.,  373800.,  294000.,  302400.,  281400.,  327600.,\n",
              "        247800.,  289800.,  327600.,  306600.,  373800.,  323400.,\n",
              "        451500.,  411600.,  321300.,  407400.,  357000.,  327600.,\n",
              "        275100.,  867300.,  510300.,  489300.,  567000.,  476700.,\n",
              "        525000.,  499800.,  499800.,  468300.,  365400.,  401100.,\n",
              "        485100.,  495600.,  474600.,  617400.,  487200.,  516600.,\n",
              "        627900.,  781200.,  835800.,  760200.,  795900.,  682500.,\n",
              "        554400.,  621600.,  672000.,  625800.,  732900.,  777000.,\n",
              "        640500.,  764400.,  653100.,  611100.,  699300.,  636300.,\n",
              "        726600.,  732900.,  690900.,  506100.,  888300., 1018500.,\n",
              "        474600.,  512400.,  472500.,  512400.,  420000.,  455700.,\n",
              "        405300.,  470400.,  590100.,  497700.,  525000.,  489300.,\n",
              "        602700.,  451500.,  483000.,  560700.,  455700.,  577500.,\n",
              "        632100.,  940800.,  789600.,  663600.,  980700.,  661500.,\n",
              "        510300.,  665700.,  875700., 1014300.,  609000.,  504000.,\n",
              "        527100.,  661500.,  497700.,  489300.,  462000.,  422100.,\n",
              "        466200.,  497700.,  369600.,  388500.,  510300.,  430500.,\n",
              "        514500.,  550200.,  512400.,  520800.,  621600.,  898800.,\n",
              "        459900.,  438900.,  924000.,  756000.,  632100.,  709800.,\n",
              "        905100., 1024800.,  651000.,  766500.,  478800.,  644700.,\n",
              "        913500.,  434700.,  443100.,  529200.,  512400.,  739200.,\n",
              "        680400.,  672000.,  697200.,  695100.,  611100.,  737100.,\n",
              "        953400.,  743400.,  966000.,  676200.,  462000.,  422100.,\n",
              "        487200.,  468300.,  520800.,  598500.,  783300.,  585900.,\n",
              "        501900.,  455700.,  600600.,  569100.,  426300.,  472500.,\n",
              "        609000.,  520800.,  462000.,  554400.,  695100.,  758100.,\n",
              "        596400.,  701400.,  592200.,  478800.,  426300.,  338100.,\n",
              "        464100.,  407400.,  453600.,  499800.,  340200.,  373800.,\n",
              "        415800.,  485100.,  441000.,  499800.,  485100.,  428400.,\n",
              "        388500.,  525000.,  516600.,  483000.,  466200.,  405300.,\n",
              "        474600.,  415800.,  359100.,  407400.,  466200.,  434700.,\n",
              "        443100.,  409500.,  388500.,  432600.,  399000.,  392700.,\n",
              "        686700.,  346500.,  501900.,  655200.,  367500.,  361200.,\n",
              "        485100.,  514500.,  558600.,  480900.,  506100.,  390600.,\n",
              "        632100.,  382200.,  432600.,  373800.,  455700.,  476700.,\n",
              "        474600.,  525000.,  417900.,  436800.,  352800.,  577500.,\n",
              "        459900.,  485100.,  289800.,  289800.,  315000.,  291900.,\n",
              "        279300.,  275100.,  214200.,  218400.,  228900.,  237300.,\n",
              "        258300.,  184800.,  151200.,  220500.,  155400.,  214200.,\n",
              "        241500.,  317100.,  487200.,  203700.,  289800.,  266700.,\n",
              "        275100.,  262500.,  178500.,  105000.,  132300.,  117600.,\n",
              "        151200.,  254100.,  174300.,  178500.,  105000.,  249900.,\n",
              "        585900.,  361200.,  577500.,  315000.,  361200.,  375900.,\n",
              "        342300.,  147000.,  151200.,  157500.,  218400.,  184800.,\n",
              "        176400.,  350700.,  298200.,  436800.,  281400.,  245700.,\n",
              "        174300.,  214200.,  228900.,  231000.,  199500.,  304500.,\n",
              "        296100.,  338100.,  300300.,  245700.,  281400.,  201600.,\n",
              "        182700.,  176400.,  268800.,  220500.,  359100.,  386400.,\n",
              "        323400.,  226800.,  247800.,  312900.,  264600.,  296100.,\n",
              "        273000.,  281400.,  319200.,  338100.,  373800.,  312900.,\n",
              "        296100.,  266700.,  283500.,  312900.,  420000.,  344400.,\n",
              "        371700.,  409500.,  424200.,  449400.,  417900.,  399000.,\n",
              "        401100.,  401100.,  422100.,  417900.,  411600.,  487200.,\n",
              "        625800.,  289800.,  279300.,  350700.,  252000.,  306600.,\n",
              "        449400.,  483000.,  497700.,  525000.,  457800.,  432600.,\n",
              "        445200.,  401100.,  432600.,  319200.,  147000.,  170100.,\n",
              "        285600.,  422100.,  457800.,  514500.,  485100.,  413700.,\n",
              "        384300.,  445200.,  367500.,  352800.,  470400.,  432600.,\n",
              "        501900.,  462000.,  249900.])"
            ]
          },
          "metadata": {},
          "execution_count": 23
        }
      ]
    },
    {
      "cell_type": "markdown",
      "source": [
        "## Modelo"
      ],
      "metadata": {
        "id": "NVI63eDXIlrr"
      }
    },
    {
      "cell_type": "code",
      "source": [
        "from xgboost import XGBRegressor\n",
        "xgboost = XGBRegressor(n_estimators=180, max_depth=3, learning_rate=0.05, objective=\"reg:squarederror\")\n",
        "xgboost.fit(independente, dependente)"
      ],
      "metadata": {
        "colab": {
          "base_uri": "https://localhost:8080/",
          "height": 248
        },
        "id": "QyE180YUIk8u",
        "outputId": "4dd421d8-0ac1-467d-e5c7-d7bdd7afc929"
      },
      "execution_count": 29,
      "outputs": [
        {
          "output_type": "execute_result",
          "data": {
            "text/plain": [
              "XGBRegressor(base_score=None, booster=None, callbacks=None,\n",
              "             colsample_bylevel=None, colsample_bynode=None,\n",
              "             colsample_bytree=None, device=None, early_stopping_rounds=None,\n",
              "             enable_categorical=False, eval_metric=None, feature_types=None,\n",
              "             gamma=None, grow_policy=None, importance_type=None,\n",
              "             interaction_constraints=None, learning_rate=0.05, max_bin=None,\n",
              "             max_cat_threshold=None, max_cat_to_onehot=None,\n",
              "             max_delta_step=None, max_depth=3, max_leaves=None,\n",
              "             min_child_weight=None, missing=nan, monotone_constraints=None,\n",
              "             multi_strategy=None, n_estimators=180, n_jobs=None,\n",
              "             num_parallel_tree=None, random_state=None, ...)"
            ],
            "text/html": [
              "<style>#sk-container-id-2 {color: black;background-color: white;}#sk-container-id-2 pre{padding: 0;}#sk-container-id-2 div.sk-toggleable {background-color: white;}#sk-container-id-2 label.sk-toggleable__label {cursor: pointer;display: block;width: 100%;margin-bottom: 0;padding: 0.3em;box-sizing: border-box;text-align: center;}#sk-container-id-2 label.sk-toggleable__label-arrow:before {content: \"▸\";float: left;margin-right: 0.25em;color: #696969;}#sk-container-id-2 label.sk-toggleable__label-arrow:hover:before {color: black;}#sk-container-id-2 div.sk-estimator:hover label.sk-toggleable__label-arrow:before {color: black;}#sk-container-id-2 div.sk-toggleable__content {max-height: 0;max-width: 0;overflow: hidden;text-align: left;background-color: #f0f8ff;}#sk-container-id-2 div.sk-toggleable__content pre {margin: 0.2em;color: black;border-radius: 0.25em;background-color: #f0f8ff;}#sk-container-id-2 input.sk-toggleable__control:checked~div.sk-toggleable__content {max-height: 200px;max-width: 100%;overflow: auto;}#sk-container-id-2 input.sk-toggleable__control:checked~label.sk-toggleable__label-arrow:before {content: \"▾\";}#sk-container-id-2 div.sk-estimator input.sk-toggleable__control:checked~label.sk-toggleable__label {background-color: #d4ebff;}#sk-container-id-2 div.sk-label input.sk-toggleable__control:checked~label.sk-toggleable__label {background-color: #d4ebff;}#sk-container-id-2 input.sk-hidden--visually {border: 0;clip: rect(1px 1px 1px 1px);clip: rect(1px, 1px, 1px, 1px);height: 1px;margin: -1px;overflow: hidden;padding: 0;position: absolute;width: 1px;}#sk-container-id-2 div.sk-estimator {font-family: monospace;background-color: #f0f8ff;border: 1px dotted black;border-radius: 0.25em;box-sizing: border-box;margin-bottom: 0.5em;}#sk-container-id-2 div.sk-estimator:hover {background-color: #d4ebff;}#sk-container-id-2 div.sk-parallel-item::after {content: \"\";width: 100%;border-bottom: 1px solid gray;flex-grow: 1;}#sk-container-id-2 div.sk-label:hover label.sk-toggleable__label {background-color: #d4ebff;}#sk-container-id-2 div.sk-serial::before {content: \"\";position: absolute;border-left: 1px solid gray;box-sizing: border-box;top: 0;bottom: 0;left: 50%;z-index: 0;}#sk-container-id-2 div.sk-serial {display: flex;flex-direction: column;align-items: center;background-color: white;padding-right: 0.2em;padding-left: 0.2em;position: relative;}#sk-container-id-2 div.sk-item {position: relative;z-index: 1;}#sk-container-id-2 div.sk-parallel {display: flex;align-items: stretch;justify-content: center;background-color: white;position: relative;}#sk-container-id-2 div.sk-item::before, #sk-container-id-2 div.sk-parallel-item::before {content: \"\";position: absolute;border-left: 1px solid gray;box-sizing: border-box;top: 0;bottom: 0;left: 50%;z-index: -1;}#sk-container-id-2 div.sk-parallel-item {display: flex;flex-direction: column;z-index: 1;position: relative;background-color: white;}#sk-container-id-2 div.sk-parallel-item:first-child::after {align-self: flex-end;width: 50%;}#sk-container-id-2 div.sk-parallel-item:last-child::after {align-self: flex-start;width: 50%;}#sk-container-id-2 div.sk-parallel-item:only-child::after {width: 0;}#sk-container-id-2 div.sk-dashed-wrapped {border: 1px dashed gray;margin: 0 0.4em 0.5em 0.4em;box-sizing: border-box;padding-bottom: 0.4em;background-color: white;}#sk-container-id-2 div.sk-label label {font-family: monospace;font-weight: bold;display: inline-block;line-height: 1.2em;}#sk-container-id-2 div.sk-label-container {text-align: center;}#sk-container-id-2 div.sk-container {/* jupyter's `normalize.less` sets `[hidden] { display: none; }` but bootstrap.min.css set `[hidden] { display: none !important; }` so we also need the `!important` here to be able to override the default hidden behavior on the sphinx rendered scikit-learn.org. See: https://github.com/scikit-learn/scikit-learn/issues/21755 */display: inline-block !important;position: relative;}#sk-container-id-2 div.sk-text-repr-fallback {display: none;}</style><div id=\"sk-container-id-2\" class=\"sk-top-container\"><div class=\"sk-text-repr-fallback\"><pre>XGBRegressor(base_score=None, booster=None, callbacks=None,\n",
              "             colsample_bylevel=None, colsample_bynode=None,\n",
              "             colsample_bytree=None, device=None, early_stopping_rounds=None,\n",
              "             enable_categorical=False, eval_metric=None, feature_types=None,\n",
              "             gamma=None, grow_policy=None, importance_type=None,\n",
              "             interaction_constraints=None, learning_rate=0.05, max_bin=None,\n",
              "             max_cat_threshold=None, max_cat_to_onehot=None,\n",
              "             max_delta_step=None, max_depth=3, max_leaves=None,\n",
              "             min_child_weight=None, missing=nan, monotone_constraints=None,\n",
              "             multi_strategy=None, n_estimators=180, n_jobs=None,\n",
              "             num_parallel_tree=None, random_state=None, ...)</pre><b>In a Jupyter environment, please rerun this cell to show the HTML representation or trust the notebook. <br />On GitHub, the HTML representation is unable to render, please try loading this page with nbviewer.org.</b></div><div class=\"sk-container\" hidden><div class=\"sk-item\"><div class=\"sk-estimator sk-toggleable\"><input class=\"sk-toggleable__control sk-hidden--visually\" id=\"sk-estimator-id-2\" type=\"checkbox\" checked><label for=\"sk-estimator-id-2\" class=\"sk-toggleable__label sk-toggleable__label-arrow\">XGBRegressor</label><div class=\"sk-toggleable__content\"><pre>XGBRegressor(base_score=None, booster=None, callbacks=None,\n",
              "             colsample_bylevel=None, colsample_bynode=None,\n",
              "             colsample_bytree=None, device=None, early_stopping_rounds=None,\n",
              "             enable_categorical=False, eval_metric=None, feature_types=None,\n",
              "             gamma=None, grow_policy=None, importance_type=None,\n",
              "             interaction_constraints=None, learning_rate=0.05, max_bin=None,\n",
              "             max_cat_threshold=None, max_cat_to_onehot=None,\n",
              "             max_delta_step=None, max_depth=3, max_leaves=None,\n",
              "             min_child_weight=None, missing=nan, monotone_constraints=None,\n",
              "             multi_strategy=None, n_estimators=180, n_jobs=None,\n",
              "             num_parallel_tree=None, random_state=None, ...)</pre></div></div></div></div></div>"
            ]
          },
          "metadata": {},
          "execution_count": 29
        }
      ]
    },
    {
      "cell_type": "markdown",
      "source": [
        "## Previsão"
      ],
      "metadata": {
        "id": "jFJi-BY9Izej"
      }
    },
    {
      "cell_type": "code",
      "source": [
        "RM = float(input(\"Número de cômodos: \"))\n",
        "LSTAT = float(input(\"Porcentagem de proprietários de classe baixa: \"))\n",
        "PTRATIO = float(input(\"Razão entre o número de estudantes e professores: \"))\n",
        "\n",
        "informacoes = [RM, LSTAT, PTRATIO]\n",
        "valor_casa = xgboost.predict([informacoes])\n",
        "\n",
        "print(f'O valor calculado da casa é de US${valor_casa[0]:.2f}')"
      ],
      "metadata": {
        "colab": {
          "base_uri": "https://localhost:8080/"
        },
        "id": "4D4ve6sMI0yi",
        "outputId": "16fb609f-2d8b-44f8-928e-581e82d63f6a"
      },
      "execution_count": 34,
      "outputs": [
        {
          "output_type": "stream",
          "name": "stdout",
          "text": [
            "Número de cômodos: 20\n",
            "Porcentagem de proprietários de classe baixa: 90\n",
            "Razão entre o número de estudantes e professores: 10\n",
            "O valor calculado da casa é de US$593525.81\n"
          ]
        }
      ]
    }
  ]
}